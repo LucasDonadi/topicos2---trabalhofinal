{
 "cells": [
  {
   "cell_type": "markdown",
   "id": "6040b7f5",
   "metadata": {},
   "source": [
    "## Carregamento dos dados"
   ]
  },
  {
   "cell_type": "code",
   "execution_count": 11,
   "id": "ccd423b8",
   "metadata": {},
   "outputs": [],
   "source": [
    "import numpy as np\n",
    "\n",
    "from scipy import signal"
   ]
  },
  {
   "cell_type": "markdown",
   "id": "b766621d",
   "metadata": {},
   "source": [
    "## Carregamento dos dados para topicos_cc\n",
    "\n",
    "### Tipos de Movimentos\n",
    "- Flexão de punho (fechar a mão);\n",
    "- Extensão de punho (abrir a mão);\n",
    "- Pinça (segurar objeto pequeno);\n",
    "- Segurar cartão;\n",
    "- Segurar caneta;\n",
    "- Segurar esfera;\n",
    "- Segurar copo;\n",
    "- Gancho (segurar objeto com alça)."
   ]
  },
  {
   "cell_type": "code",
   "execution_count": 12,
   "id": "3217fe9a",
   "metadata": {},
   "outputs": [
    {
     "name": "stdout",
     "output_type": "stream",
     "text": [
      "(10, 3, 8, 4, 1600) - (voluntarios, ensaios, classes, canais, linhas)\n"
     ]
    }
   ],
   "source": [
    "num_subjects = 10  # quantidade de voluntários\n",
    "num_trials = 3     # quantidade de tentativas\n",
    "num_classes = 8    # quantidade de tipos diferentes de movimentos\n",
    "num_channels = 4   # quantidade de canais/eletrodos\n",
    "num_samples = 1600 # quantidade de amostras\n",
    "\n",
    "data = np.empty((num_subjects, num_trials, num_classes, num_channels, num_samples)) # (10,3,8,4,1600)\n",
    "\n",
    "# Carregar os dados para cada voluntário\n",
    "for subject_id in range(1, num_subjects + 1):\n",
    "        \n",
    "    # Carregar os dados das três tentativas\n",
    "    for trial_id in range(1, num_trials + 1):\n",
    "        file_path = f'./sEMG/datasets/topicos_cc/s{subject_id:02d}_{trial_id}.npy'\n",
    "        \n",
    "        loaded_data = np.load(file_path)              # shape (8,1600,4)\n",
    "        loaded_data = np.moveaxis(loaded_data, 1, -1) # shape (8,4,1600)\n",
    "    \n",
    "        data[subject_id-1, trial_id-1] = loaded_data\n",
    "                        \n",
    "print(f'{data.shape} - (voluntarios, ensaios, classes, canais, linhas)')"
   ]
  },
  {
   "cell_type": "markdown",
   "id": "4cf7781d",
   "metadata": {},
   "source": [
    "## Definição e aplicação do Filtro"
   ]
  },
  {
   "cell_type": "code",
   "execution_count": 13,
   "id": "dfd9f7cb",
   "metadata": {},
   "outputs": [],
   "source": [
    "def butter_bandpass(data, lowcut, highcut, fs=200, order=4):\n",
    "    nyq = fs * 0.5\n",
    "    low = lowcut / nyq\n",
    "    high = highcut / nyq\n",
    "    b, a = signal.butter(order, [low, high], btype='bandpass')\n",
    "    return signal.filtfilt(b, a, data)\n",
    "\n",
    "# filtered_data = butter_bandpass(data, lowcut=5, highcut=50)\n",
    "\n",
    "# data = np.reshape(filtered_data, (num_subjects, num_trials, num_classes, num_channels, num_samples))\n",
    "\n",
    "np.save('data.npy', data)"
   ]
  }
 ],
 "metadata": {
  "kernelspec": {
   "display_name": "Python 3 (ipykernel)",
   "language": "python",
   "name": "python3"
  },
  "language_info": {
   "codemirror_mode": {
    "name": "ipython",
    "version": 3
   },
   "file_extension": ".py",
   "mimetype": "text/x-python",
   "name": "python",
   "nbconvert_exporter": "python",
   "pygments_lexer": "ipython3",
   "version": "3.11.2"
  }
 },
 "nbformat": 4,
 "nbformat_minor": 5
}
